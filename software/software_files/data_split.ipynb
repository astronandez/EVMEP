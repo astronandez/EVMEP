{
 "cells": [
  {
   "cell_type": "code",
   "execution_count": 1,
   "id": "d9764c7b-0fc5-4e85-8cd3-26ed58c20770",
   "metadata": {},
   "outputs": [],
   "source": [
    "import os\n",
    "import shutil"
   ]
  },
  {
   "cell_type": "code",
   "execution_count": 2,
   "id": "34a25a23-e5e6-46c1-9851-559612b58ad3",
   "metadata": {},
   "outputs": [],
   "source": [
    "import numpy as np\n",
    "import pandas as pd\n",
    "import yaml\n",
    "import csv\n",
    "from sklearn.model_selection import train_test_split"
   ]
  },
  {
   "cell_type": "code",
   "execution_count": 3,
   "id": "317ec622-5f49-4114-8424-8993c0df7ca1",
   "metadata": {},
   "outputs": [],
   "source": [
    "from tqdm import tqdm\n",
    "import time"
   ]
  },
  {
   "cell_type": "code",
   "execution_count": 23,
   "id": "15fe9c37-13a8-490a-87b9-c9b259fafc9e",
   "metadata": {},
   "outputs": [],
   "source": [
    "GLOBAL_DEBUG = False\n",
    "GLOBAL_DEBUG_VAL = 500"
   ]
  },
  {
   "cell_type": "code",
   "execution_count": 5,
   "id": "5e1d6cd5-c5d4-470b-81d7-ec5b72a196fd",
   "metadata": {},
   "outputs": [],
   "source": [
    "def copy_files(file_paths, output_folder):\n",
    "    for file in tqdm(range(len(file_paths))):\n",
    "        output_path = os.path.join(output_folder, os.path.basename(file_paths[file]))\n",
    "        shutil.copyfile(file_paths[file], output_path)"
   ]
  },
  {
   "cell_type": "code",
   "execution_count": 34,
   "id": "b7115be8-11fc-4c11-bb44-d3af68cd4dc0",
   "metadata": {},
   "outputs": [],
   "source": [
    "def csv_to_dataframe(file_path):\n",
    "    df = pd.read_csv(file_path)\n",
    "    \n",
    "    cat_counts = pd.DataFrame(df['car_type_id'].value_counts(sort=True).reset_index())\n",
    "    cat_counts.columns = ['car_type_id','count']\n",
    "    min_samples = df['car_type_id'].value_counts().min()\n",
    "    \n",
    "    print(cat_counts)\n",
    "    print(min_samples)\n",
    "\n",
    "    df_filtered = pd.DataFrame()\n",
    "    \n",
    "    for index, row in cat_counts.iterrows():\n",
    "        samples = df[df['car_type_id'] == row['car_type_id']].sample(min_samples)\n",
    "        df_filtered = pd.concat([df_filtered, samples])\n",
    "\n",
    "    df_filtered.to_csv('Z:/CompCarsYOLO/data/balanced_data.csv', index=False)\n",
    "    \n",
    "    return df_filtered"
   ]
  },
  {
   "cell_type": "code",
   "execution_count": 16,
   "id": "45d64e77-2c22-4f17-a14b-bd818dbdf2ba",
   "metadata": {},
   "outputs": [],
   "source": [
    "def resize_path_load(image_paths, label_paths, df_filtered):\n",
    "    resized_image_paths = []\n",
    "    resized_label_paths = []\n",
    "    for i in tqdm(range(len(image_paths))):\n",
    "        if os.path.basename(image_paths[i]) in df_filtered['image_name'].values:\n",
    "            resized_image_paths.append(image_paths[i])\n",
    "            resized_label_paths.append(label_paths[i])\n",
    "    return resized_image_paths, resized_label_paths\n",
    "                "
   ]
  },
  {
   "cell_type": "code",
   "execution_count": 8,
   "id": "f18e9cb1-dfac-403b-82db-efb8568d5353",
   "metadata": {},
   "outputs": [],
   "source": [
    "def generate_string(values, names):\n",
    "    regen = []\n",
    "    for i in values:\n",
    "        regen.append(names[i])\n",
    "        \n",
    "    return regen"
   ]
  },
  {
   "cell_type": "code",
   "execution_count": 9,
   "id": "e4a1babb-7053-436c-a9b2-f935608d5cf9",
   "metadata": {},
   "outputs": [],
   "source": [
    "def df_column_combined(dataframe, names):\n",
    "    images = []\n",
    "    labels = []\n",
    "    df = dataframe\n",
    "    df['car_type_name'] = generate_string(df['car_type_id'], names)\n",
    "    df_new = df.sort_values(by='image_name')\n",
    "    \n",
    "    images = df_new['image_name'].values\n",
    "    labels = df_new['car_type_name'].values\n",
    "\n",
    "    return images, labels"
   ]
  },
  {
   "cell_type": "code",
   "execution_count": 10,
   "id": "d4c14da3-c883-4708-8bb7-779ce6a305d5",
   "metadata": {},
   "outputs": [],
   "source": [
    "def data_selector(images_paths, labels_paths, image_keys):\n",
    "    dictionary = {key: (imgp, lbp) for key, imgp, lbp in zip(image_keys, images_paths, labels_paths)}\n",
    "\n",
    "    return dictionary"
   ]
  },
  {
   "cell_type": "code",
   "execution_count": 11,
   "id": "979a7feb-9045-448d-847f-eb21b1d57abb",
   "metadata": {},
   "outputs": [],
   "source": [
    "def data_stratification(x, y, dictionary, output_folder, train_size=0.7, random_seed=42):\n",
    "    train_folder = f'{output_folder}/train/'\n",
    "    val_folder = f'{output_folder}/val/'\n",
    "    test_folder = f'{output_folder}/test/'\n",
    "\n",
    "    train_images_folder = f'{output_folder}/train/images/'\n",
    "    val_images_folder = f'{output_folder}/val/images/'\n",
    "    test_images_folder = f'{output_folder}/test/images/'\n",
    "\n",
    "    train_labels_folder = f'{output_folder}/train/labels/'\n",
    "    val_labels_folder = f'{output_folder}/val/labels/'\n",
    "    test_labels_folder = f'{output_folder}/test/labels/'\n",
    "    \n",
    "    if not os.path.exists(train_folder):\n",
    "        os.makedirs(train_folder, exist_ok=True)\n",
    "        os.makedirs(train_images_folder)\n",
    "        os.makedirs(train_labels_folder)\n",
    "\n",
    "    if not os.path.exists(val_folder):\n",
    "        os.makedirs(val_folder, exist_ok=True)\n",
    "        os.makedirs(val_images_folder)\n",
    "        os.makedirs(val_labels_folder)\n",
    "        \n",
    "    if not os.path.exists(test_folder):\n",
    "        os.makedirs(test_folder, exist_ok=True)\n",
    "        os.makedirs(test_images_folder)\n",
    "        os.makedirs(test_labels_folder)\n",
    "\n",
    "    # A script that will relate text entry to file paths\n",
    "    train_keys, val_and_test_keys, train_lbs, val_and_test_lbs = train_test_split(x, y, test_size=(1-train_size), random_state=random_seed, stratify=y)\n",
    "    val_keys, test_keys, val_lbs, test_lbs = train_test_split(val_and_test_keys, val_and_test_lbs, test_size=0.33333, random_state=random_seed, stratify=val_and_test_lbs)\n",
    "\n",
    "    train_paths = [dictionary[key] for key in train_keys if key in dictionary]\n",
    "    val_paths = [dictionary[key] for key in val_keys if key in dictionary]\n",
    "    test_paths = [dictionary[key] for key in test_keys if key in dictionary]\n",
    "\n",
    "    train_img = [tuple_element[0] for tuple_element in train_paths]\n",
    "    train_labels = [tuple_element[1] for tuple_element in train_paths]\n",
    "    val_img = [tuple_element[0] for tuple_element in val_paths]\n",
    "    val_labels = [tuple_element[1] for tuple_element in val_paths]\n",
    "    test_img = [tuple_element[0] for tuple_element in test_paths]\n",
    "    test_labels = [tuple_element[1] for tuple_element in test_paths]\n",
    "\n",
    "    copy_files(train_img, train_images_folder)\n",
    "    copy_files(train_labels, train_labels_folder)\n",
    "    copy_files(val_img, val_images_folder)\n",
    "    copy_files(val_labels, val_labels_folder)\n",
    "    copy_files(test_img, test_images_folder)\n",
    "    copy_files(test_labels, test_labels_folder)"
   ]
  },
  {
   "cell_type": "code",
   "execution_count": 35,
   "id": "01e668cd-ffdc-4b98-86ed-248f65667d72",
   "metadata": {},
   "outputs": [
    {
     "name": "stdout",
     "output_type": "stream",
     "text": [
      "    car_type_id  count\n",
      "0             2  32274\n",
      "1             1  21809\n",
      "2             3  16573\n",
      "3             0   6149\n",
      "4             9   6023\n",
      "5             4   4729\n",
      "6             5   2473\n",
      "7             8   2473\n",
      "8             7   2133\n",
      "9             6   1215\n",
      "10           11   1046\n",
      "11           10    937\n",
      "937\n"
     ]
    },
    {
     "name": "stderr",
     "output_type": "stream",
     "text": [
      "100%|████████████████████████████████████████████████████████████████████████| 136632/136632 [00:30<00:00, 4433.07it/s]\n",
      "100%|█████████████████████████████████████████████████████████████████████████████| 7870/7870 [00:31<00:00, 246.92it/s]\n",
      "100%|█████████████████████████████████████████████████████████████████████████████| 7870/7870 [00:27<00:00, 290.08it/s]\n",
      "100%|█████████████████████████████████████████████████████████████████████████████| 2249/2249 [00:08<00:00, 257.52it/s]\n",
      "100%|█████████████████████████████████████████████████████████████████████████████| 2249/2249 [00:08<00:00, 274.17it/s]\n",
      "100%|█████████████████████████████████████████████████████████████████████████████| 1125/1125 [00:04<00:00, 247.98it/s]\n",
      "100%|█████████████████████████████████████████████████████████████████████████████| 1125/1125 [00:04<00:00, 258.73it/s]\n"
     ]
    }
   ],
   "source": [
    "data_folder_path = 'Z:/CompCarsYOLO/data/ROBO_UPLOAD1/'\n",
    "csv_file_path = 'Z:/CompCarsYOLO/data/yolo_car_type_only_classified_data.csv'\n",
    "images_folder_path = f'{data_folder_path}/images/'\n",
    "labels_folder_path = f'{data_folder_path}/labels/'\n",
    "data_yaml = f'{data_folder_path}/datanew.yaml'\n",
    "\n",
    "output_folder_path = 'Z:/CompCarsYOLO/data/segmented_only_classified_data/'\n",
    "\n",
    "with open(data_yaml, 'r') as file:\n",
    "    yaml_loader = yaml.safe_load(file)\n",
    "\n",
    "classes = yaml_loader.get('names')\n",
    "\n",
    "all_image_paths = sorted([os.path.join(images_folder_path, filename) for filename in os.listdir(images_folder_path)])\n",
    "all_label_paths = sorted([os.path.join(labels_folder_path, filename) for filename in os.listdir(labels_folder_path)])\n",
    "csv_df = csv_to_dataframe(csv_file_path)\n",
    "x, y = df_column_combined(csv_df, classes)\n",
    "\n",
    "image_paths, label_paths = resize_path_load(all_image_paths, all_label_paths, csv_df)\n",
    "\n",
    "if GLOBAL_DEBUG:\n",
    "    image_paths = image_paths[:GLOBAL_DEBUG_VAL]\n",
    "    label_paths = label_paths[:GLOBAL_DEBUG_VAL]\n",
    "    x = x[:GLOBAL_DEBUG_VAL]\n",
    "    y = y[:GLOBAL_DEBUG_VAL]\n",
    "    \n",
    "diction = data_selector(image_paths, label_paths, x)\n",
    "data_stratification(x, y, diction, output_folder_path)"
   ]
  },
  {
   "cell_type": "code",
   "execution_count": null,
   "id": "6560a8ca-9b53-412c-b58b-11bcfb21104a",
   "metadata": {},
   "outputs": [],
   "source": []
  }
 ],
 "metadata": {
  "kernelspec": {
   "display_name": "Python (GPU)",
   "language": "python",
   "name": "gpu_env"
  },
  "language_info": {
   "codemirror_mode": {
    "name": "ipython",
    "version": 3
   },
   "file_extension": ".py",
   "mimetype": "text/x-python",
   "name": "python",
   "nbconvert_exporter": "python",
   "pygments_lexer": "ipython3",
   "version": "3.10.13"
  }
 },
 "nbformat": 4,
 "nbformat_minor": 5
}
